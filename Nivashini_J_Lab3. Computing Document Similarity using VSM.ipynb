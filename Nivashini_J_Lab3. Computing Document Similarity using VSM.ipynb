{
 "cells": [
  {
   "cell_type": "markdown",
   "id": "e49fdfe1",
   "metadata": {},
   "source": [
    "Nivashini J\n",
    "I M.Sc Data Science"
   ]
  },
  {
   "cell_type": "markdown",
   "id": "67a44f1b",
   "metadata": {},
   "source": [
    "# Lab3. Computing Document Similarity using VSM"
   ]
  },
  {
   "cell_type": "code",
   "execution_count": 8,
   "id": "97f7ff25",
   "metadata": {},
   "outputs": [
    {
     "name": "stdout",
     "output_type": "stream",
     "text": [
      "  (0, 0)\t0.7071067811865476\n",
      "  (0, 2)\t0.7071067811865476\n",
      "  (1, 3)\t0.5773502691896257\n",
      "  (1, 0)\t0.5773502691896257\n",
      "  (1, 2)\t0.5773502691896257\n",
      "  (2, 1)\t0.7071067811865476\n",
      "  (2, 3)\t0.7071067811865476\n",
      "  (3, 1)\t1.0\n",
      "   good movie      like     movie       not\n",
      "0    0.707107  0.000000  0.707107  0.000000\n",
      "1    0.577350  0.000000  0.577350  0.577350\n",
      "2    0.000000  0.707107  0.000000  0.707107\n",
      "3    0.000000  1.000000  0.000000  0.000000\n",
      "4    0.000000  0.000000  0.000000  0.000000\n"
     ]
    },
    {
     "name": "stderr",
     "output_type": "stream",
     "text": [
      "C:\\ProgramData\\Anaconda3\\lib\\site-packages\\sklearn\\utils\\deprecation.py:87: FutureWarning: Function get_feature_names is deprecated; get_feature_names is deprecated in 1.0 and will be removed in 1.2. Please use get_feature_names_out instead.\n",
      "  warnings.warn(msg, category=FutureWarning)\n"
     ]
    }
   ],
   "source": [
    "from sklearn.feature_extraction.text import TfidfVectorizer\n",
    "\n",
    "docs = [\n",
    "    \"good movie\", \"not a good movie\", \"did not like\",\n",
    "    \"i like it\", \"good one\"\n",
    "]\n",
    "\n",
    "# Define a custom tokenizer function\n",
    "def my_tokenizer(text):\n",
    "    return text.split()\n",
    "\n",
    "# Using TfidfVectorizer with the custom tokenizer\n",
    "tfidf = TfidfVectorizer(min_df=2, max_df=0.5, ngram_range=(1, 2), tokenizer=my_tokenizer)\n",
    "features = tfidf.fit_transform(docs)\n",
    "print(features)\n",
    " \n",
    "# Pretty printing\n",
    "df = pd.DataFrame(\n",
    "    features.todense(),\n",
    "    columns=tfidf.get_feature_names())\n",
    "print(df)"
   ]
  },
  {
   "cell_type": "code",
   "execution_count": null,
   "id": "322ab12a",
   "metadata": {},
   "outputs": [],
   "source": []
  }
 ],
 "metadata": {
  "kernelspec": {
   "display_name": "Python 3 (ipykernel)",
   "language": "python",
   "name": "python3"
  },
  "language_info": {
   "codemirror_mode": {
    "name": "ipython",
    "version": 3
   },
   "file_extension": ".py",
   "mimetype": "text/x-python",
   "name": "python",
   "nbconvert_exporter": "python",
   "pygments_lexer": "ipython3",
   "version": "3.11.3"
  }
 },
 "nbformat": 4,
 "nbformat_minor": 5
}
