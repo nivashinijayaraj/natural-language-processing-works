{
 "cells": [
  {
   "cell_type": "code",
   "execution_count": null,
   "metadata": {},
   "outputs": [],
   "source": [
    "Nivashini.J\n",
    "235229119\n"
   ]
  },
  {
   "cell_type": "markdown",
   "metadata": {},
   "source": [
    "# Find Top-N similar documents"
   ]
  },
  {
   "cell_type": "markdown",
   "metadata": {},
   "source": [
    "Question-1. Consider the\n",
    "following documents and compute TFIDF values\n",
    "\n",
    "\n",
    " \n",
    "\n",
    "\n",
    "docs=[\"the\n",
    "house had a tiny little mouse\",\n",
    "\n",
    "\n",
    "\"the cat\n",
    "saw the mouse\",\n",
    "\n",
    "\n",
    "\"the\n",
    "mouse ran away from the house\",\n",
    "\n",
    "\n",
    "\"the cat\n",
    "finally ate the mouse\",\n",
    "\n",
    "\n",
    "\"the end\n",
    "of the mouse story\"\n",
    "\n",
    "\n",
    "]\n",
    "\n",
    "\n",
    " \n",
    "\n",
    "\n",
    "Question-2. Compute cosine\n",
    "similarity between 3rd document (“the mouse ran away from the house”) with all other\n",
    "documents. Which is the most similar document?.\n",
    "\n",
    "\n",
    " \n",
    "\n",
    "\n",
    "Question-3. Find Top-2 similar\n",
    "documents for the 3rd document based on Cosine similarity values."
   ]
  },
  {
   "cell_type": "code",
   "execution_count": null,
   "metadata": {},
   "outputs": [],
   "source": [
    "from sklearn.feature_extraction.text import TfidfVectorizer\n",
    "from sklearn.metrics.pairwise import linear_kernel\n",
    "\n",
    "# Given documents\n",
    "docs = [\n",
    "    \"the house had a tiny little mouse\",\n",
    "    \"the cat saw the mouse\",\n",
    "    \"the mouse ran away from the house\",\n",
    "    \"the cat finally ate the mouse\",\n",
    "    \"the end of the mouse story\"\n",
    "]\n",
    "\n",
    "# TF-IDF vectorization\n",
    "tfidf_vectorizer = TfidfVectorizer()\n",
    "tfidf_matrix = tfidf_vectorizer.fit_transform(docs)\n",
    "\n"
   ]
  },
  {
   "cell_type": "markdown",
   "metadata": {},
   "source": [
    "# Question-2: Compute cosine similarity between 3rd document and all other documents"
   ]
  },
  {
   "cell_type": "code",
   "execution_count": 5,
   "metadata": {},
   "outputs": [
    {
     "name": "stdout",
     "output_type": "stream",
     "text": [
      "Question-2: The most similar document to the 3rd document is:\n",
      "the cat saw the mouse\n",
      "Cosine Similarity Value: 0.3108877882484934\n"
     ]
    }
   ],
   "source": [
    "\n",
    "query_doc = tfidf_matrix[2:3]\n",
    "cosine_similarities = linear_kernel(query_doc, tfidf_matrix).flatten()\n",
    "\n",
    "                                                   # Find the most similar document (excluding the document itself)\n",
    "most_similar_index = cosine_similarities.argsort()[-2:-1][0]\n",
    "most_similar_document = docs[most_similar_index]\n",
    "\n",
    "\n",
    "print(f\" The most similar document to the 3rd document is:\\n{most_similar_document}\")\n",
    "print(f\"Cosine Similarity Value: {cosine_similarities[most_similar_index]}\")"
   ]
  },
  {
   "cell_type": "markdown",
   "metadata": {},
   "source": [
    "# Question-3: Find Top-2 similar documents for the 3rd document based on Cosine similarity values"
   ]
  },
  {
   "cell_type": "code",
   "execution_count": 8,
   "metadata": {},
   "outputs": [
    {
     "name": "stdout",
     "output_type": "stream",
     "text": [
      "\n",
      " Top-2 similar documents for the 3rd document are:\n",
      "1. the mouse ran away from the house (Cosine Similarity: 0.9999999999999997)\n",
      "2. the cat saw the mouse (Cosine Similarity: 0.3108877882484934)\n"
     ]
    }
   ],
   "source": [
    "\n",
    "top2_similar_indices = cosine_similarities.argsort()[:-3:-1]\n",
    "top2_similar_documents = [docs[i] for i in top2_similar_indices]\n",
    "\n",
    "print(\"\\n Top-2 similar documents for the 3rd document are:\")\n",
    "for i, doc in enumerate(top2_similar_documents):\n",
    "    print(f\"{i+1}. {doc} (Cosine Similarity: {cosine_similarities[top2_similar_indices[i]]})\")\n"
   ]
  },
  {
   "cell_type": "raw",
   "metadata": {},
   "source": [
    "Notes:\n",
    "    1] The TfidfVectorizer is used to convert the raw documents into a matrix of TF-IDF features. fit_transform both fits the model to the data and transforms the data into its TF-IDF representation.\n",
    "    2]We isolate the TF-IDF vector for the 3rd document (\"the mouse ran away from the house\") and then compute the cosine similarity between this vector and all other documents using the linear_kernel function.Here, tfidf_matrix[2:3] extracts the TF-IDF vector for the 3rd document from the TF-IDF matrix. In Python, indexing starts from 0, so 2:3 refers to the third document. The resulting query_doc is a sparse matrix containing the TF-IDF representation of the 3rd document.\n",
    "    The linear_kernel function from scikit-learn computes the linear kernel (dot product) between the TF-IDF vector of the 3rd document (query_doc) and the TF-IDF matrix of all documents (tfidf_matrix). This operation results in a one-dimensional array of cosine similarity scores between the 3rd document and each of the other documents.\n",
    "    3]cosine_similarities.argsort() returns the indices that would sort the cosine_similarities array in ascending order.\n",
    "[-2:-1] extracts the second-to-last element in the sorted indices. This corresponds to the index of the most similar document in the original docs list.\n",
    "[0] retrieves the value from the resulting array.\n",
    "\n",
    "\n",
    "    most_similar_document = docs[most_similar_index]\n",
    "\n",
    "This line retrieves the document at the most_similar_index from the docs list and assigns it to the variable most_similar_document"
   ]
  }
 ],
 "metadata": {
  "kernelspec": {
   "display_name": "Python 3",
   "language": "python",
   "name": "python3"
  },
  "language_info": {
   "codemirror_mode": {
    "name": "ipython",
    "version": 3
   },
   "file_extension": ".py",
   "mimetype": "text/x-python",
   "name": "python",
   "nbconvert_exporter": "python",
   "pygments_lexer": "ipython3",
   "version": "3.7.1"
  }
 },
 "nbformat": 4,
 "nbformat_minor": 2
}
