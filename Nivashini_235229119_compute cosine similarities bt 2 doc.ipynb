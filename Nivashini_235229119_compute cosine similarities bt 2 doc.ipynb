{
 "cells": [
  {
   "cell_type": "markdown",
   "metadata": {},
   "source": [
    "Nivashini\n",
    "I M.Sc DS \n",
    "235229119"
   ]
  },
  {
   "cell_type": "markdown",
   "metadata": {},
   "source": [
    "# Compute Cosine Similarity between 2 Documents"
   ]
  },
  {
   "cell_type": "markdown",
   "metadata": {},
   "source": [
    "from\n",
    "sklearn.metrics.pairwise import linear_kernel\n",
    "\n",
    "\n",
    " \n",
    "\n",
    "\n",
    "# cosine score between 1st and2nd doc\n",
    "\n",
    "\n",
    "doc1 = features[0:1]\n",
    "\n",
    "\n",
    "doc2 = features[1:2]\n",
    "\n",
    "\n",
    "score = linear_kernel(doc1,\n",
    "doc2)\n",
    "\n",
    "\n",
    "print(score)\n",
    "\n",
    "\n",
    " \n",
    "\n",
    "\n",
    "# cosine score between 1st and all other docs\n",
    "\n",
    "\n",
    "scores = linear_kernel(doc1,\n",
    "features)\n",
    "\n",
    "\n",
    "print(scores\n",
    "\n",
    "\n",
    " \n",
    "\n",
    "\n",
    "# Cosine Similarity for a new doc\n",
    "\n",
    "\n",
    "query = \"I like this\n",
    "good movie\"\n",
    "\n",
    "\n",
    "qfeature =\n",
    "tfidf.transform([query]\n",
    "\n",
    "\n",
    "scores2 =\n",
    "linear_kernel(doc1, features)\n",
    "\n",
    "\n",
    "print(scores2)"
   ]
  },
  {
   "cell_type": "code",
   "execution_count": 4,
   "metadata": {},
   "outputs": [],
   "source": [
    "from sklearn.feature_extraction.text import TfidfVectorizer\n",
    "from sklearn.metrics.pairwise import linear_kernel\n",
    "\n",
    "# Example documents\n",
    "documents = [\"This is the first document.\",\n",
    "             \"This document is the second document.\", \"And this is the third one.\"]\n",
    "\n",
    "# Create a TfidfVectorizer\n",
    "tfidf_vectorizer = TfidfVectorizer()\n",
    "features = tfidf_vectorizer.fit_transform(documents)\n",
    "\n"
   ]
  },
  {
   "cell_type": "markdown",
   "metadata": {},
   "source": [
    "# Cosine score between 1st and 2nd doc"
   ]
  },
  {
   "cell_type": "code",
   "execution_count": 5,
   "metadata": {},
   "outputs": [
    {
     "name": "stdout",
     "output_type": "stream",
     "text": [
      "Cosine Similarity between 1st and 2nd doc: [[0.65128011]]\n"
     ]
    }
   ],
   "source": [
    "\n",
    "doc1 = features[0:1]\n",
    "doc2 = features[1:2]\n",
    "score = linear_kernel(doc1, doc2)\n",
    "print(\"Cosine Similarity between 1st and 2nd doc:\", score)"
   ]
  },
  {
   "cell_type": "markdown",
   "metadata": {},
   "source": [
    "# Cosine score between 1st and all other docs"
   ]
  },
  {
   "cell_type": "code",
   "execution_count": 6,
   "metadata": {},
   "outputs": [
    {
     "name": "stdout",
     "output_type": "stream",
     "text": [
      "Cosine Similarity between 1st doc and all other docs:\n",
      "[[1.         0.65128011 0.32109841]]\n"
     ]
    }
   ],
   "source": [
    "\n",
    "scores = linear_kernel(doc1, features)\n",
    "print(\"Cosine Similarity between 1st doc and all other docs:\")\n",
    "print(scores)\n"
   ]
  },
  {
   "cell_type": "markdown",
   "metadata": {},
   "source": [
    "# Cosine Similarity for a new doc"
   ]
  },
  {
   "cell_type": "code",
   "execution_count": 7,
   "metadata": {},
   "outputs": [
    {
     "name": "stdout",
     "output_type": "stream",
     "text": [
      "Cosine Similarity between the new doc and all other docs:\n",
      "[[0.3645444  0.28285122 0.29360705]]\n"
     ]
    }
   ],
   "source": [
    "\n",
    "\n",
    "query = \"I like this good movie\"\n",
    "qfeature = tfidf_vectorizer.transform([query])\n",
    "scores2 = linear_kernel(qfeature, features)\n",
    "print(\"Cosine Similarity between the new doc and all other docs:\")\n",
    "print(scores2)\n"
   ]
  },
  {
   "cell_type": "code",
   "execution_count": null,
   "metadata": {},
   "outputs": [],
   "source": []
  }
 ],
 "metadata": {
  "kernelspec": {
   "display_name": "Python 3",
   "language": "python",
   "name": "python3"
  },
  "language_info": {
   "codemirror_mode": {
    "name": "ipython",
    "version": 3
   },
   "file_extension": ".py",
   "mimetype": "text/x-python",
   "name": "python",
   "nbconvert_exporter": "python",
   "pygments_lexer": "ipython3",
   "version": "3.7.1"
  }
 },
 "nbformat": 4,
 "nbformat_minor": 2
}
