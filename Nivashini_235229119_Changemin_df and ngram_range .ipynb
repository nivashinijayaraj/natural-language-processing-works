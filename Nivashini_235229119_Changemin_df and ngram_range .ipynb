{
 "cells": [
  {
   "cell_type": "code",
   "execution_count": null,
   "metadata": {},
   "outputs": [],
   "source": [
    "Nivashini J\n",
    "235229119\n"
   ]
  },
  {
   "cell_type": "markdown",
   "metadata": {},
   "source": [
    "# Change min_df and ngram_range"
   ]
  },
  {
   "cell_type": "code",
   "execution_count": 8,
   "metadata": {},
   "outputs": [],
   "source": [
    "from sklearn.feature_extraction.text import CountVectorizer\n",
    "\n",
    "                                                                                            # Sample corpus or doc or text\n",
    "all_text = [\n",
    "   \"Hi , This is niva .\"\n",
    "    ,\"I jst wannahh tell you something\",\n",
    "    \"But, I want that one from you \",\n",
    "    \"that mean I wannahh hear that words from you \",\"will you?\"\n",
    "]\n",
    "\n",
    "                                                                       # Initialize CountVectorizer with default parameters\n",
    "vectorizer_default = CountVectorizer()\n",
    "\n"
   ]
  },
  {
   "cell_type": "code",
   "execution_count": 9,
   "metadata": {},
   "outputs": [
    {
     "name": "stdout",
     "output_type": "stream",
     "text": [
      "Default Feature Names:\n",
      "['but', 'from', 'hear', 'hi', 'is', 'jst', 'mean', 'niva', 'one', 'something', 'tell', 'that', 'this', 'wannahh', 'want', 'will', 'words', 'you']\n"
     ]
    }
   ],
   "source": [
    "\n",
    "                                                                         # Fit and transform the text \n",
    "X_default = vectorizer_default.fit_transform(all_text)\n",
    "\n",
    "                                                                        # Get feature names\n",
    "                                                            # Use get_feature_names() for scikit-learn versions prior to 0.24.0\n",
    "feature_names_default = vectorizer_default.get_feature_names()\n",
    "\n",
    "\n",
    "print(\"Default Feature Names:\")\n",
    "print(feature_names_default)\n"
   ]
  },
  {
   "cell_type": "markdown",
   "metadata": {},
   "source": [
    "# Change min_df and ngram_range"
   ]
  },
  {
   "cell_type": "code",
   "execution_count": 10,
   "metadata": {},
   "outputs": [],
   "source": [
    "\n",
    "vectorizer_custom = CountVectorizer(min_df=2, ngram_range=(1, 3))"
   ]
  },
  {
   "cell_type": "code",
   "execution_count": 11,
   "metadata": {},
   "outputs": [
    {
     "name": "stdout",
     "output_type": "stream",
     "text": [
      "\n",
      "Custom Feature Names:\n",
      "['from', 'from you', 'that', 'wannahh', 'you']\n"
     ]
    }
   ],
   "source": [
    "                                                            # Fit and transform the corpus with custom parameters\n",
    "X_custom = vectorizer_custom.fit_transform(corpus)\n",
    "\n",
    "                                                             # Get feature names with custom parameters\n",
    "                                                            # Use get_feature_names() for scikit-learn versions prior to 0.24.0\n",
    "feature_names_custom = vectorizer_custom.get_feature_names()\n",
    "\n",
    "\n",
    "print(\"\\nCustom Feature Names:\")\n",
    "print(feature_names_custom)\n"
   ]
  },
  {
   "cell_type": "code",
   "execution_count": null,
   "metadata": {},
   "outputs": [],
   "source": []
  }
 ],
 "metadata": {
  "kernelspec": {
   "display_name": "Python 3",
   "language": "python",
   "name": "python3"
  },
  "language_info": {
   "codemirror_mode": {
    "name": "ipython",
    "version": 3
   },
   "file_extension": ".py",
   "mimetype": "text/x-python",
   "name": "python",
   "nbconvert_exporter": "python",
   "pygments_lexer": "ipython3",
   "version": "3.7.1"
  }
 },
 "nbformat": 4,
 "nbformat_minor": 2
}
